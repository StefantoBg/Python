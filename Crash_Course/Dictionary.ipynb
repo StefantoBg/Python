# file = {"jpg": 7, "png": 3, "py": 21, "csv": 8}

FileServer = {"EndUser1": 2.25, "EndUser2": 4.5, "EndUser3": 1, "EndUser4": 3.75, "EndUser5": 0.6, "EndUser6": 8}

print(FileServer.items()) # Should print 20.1
# for x,y in file.items():
#     print(x , "|" , y)
a = dict(one=1, two=2, three=3)
b = {'one': 1, 'two': 2, 'three': 3}
c = dict(zip(['one', 'two', 'three'], [1, 2, 3]))
d = dict([('two', 2), ('one', 1), ('three', 3)])
e = dict({'three': 3, 'one': 1, 'two': 2})
f = dict({'one': 1, 'three': 3}, two=2)
print(d)
print(e)
print(c)
print(b)
print(a)
# print(len(file.keys()))
# print(file.values())
# print(file.items())
def letter_counter(text):
    result = {}
    for letter in text:
        if letter not in result:
            result[letter] = 0
        result[letter] += 1
    return result


letter_counter("StefatefanStefanStefanfanStefan")
